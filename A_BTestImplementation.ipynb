{
  "nbformat": 4,
  "nbformat_minor": 0,
  "metadata": {
    "colab": {
      "provenance": []
    },
    "kernelspec": {
      "name": "python3",
      "display_name": "Python 3"
    },
    "language_info": {
      "name": "python"
    }
  },
  "cells": [
    {
      "cell_type": "code",
      "execution_count": 1,
      "metadata": {
        "id": "jfEJTs-C5svh"
      },
      "outputs": [],
      "source": [
        "import numpy as np\n",
        "import pandas as pd\n",
        "from scipy.stats import norm\n",
        "import seaborn as sns\n",
        "import matplotlib.pyplot as plt"
      ]
    },
    {
      "cell_type": "code",
      "source": [
        "df_ab_test = pd.read_csv('ab_test_click_data.csv')\n",
        "\n",
        "print(df_ab_test.head())\n",
        "print(df_ab_test.describe())\n",
        "print(df_ab_test.groupby(\"group\").sum(\"click\"))"
      ],
      "metadata": {
        "colab": {
          "base_uri": "https://localhost:8080/"
        },
        "id": "6GEAymEy6-P_",
        "outputId": "3e20c6cc-176d-42b4-f18d-e87c9851a6f5"
      },
      "execution_count": 2,
      "outputs": [
        {
          "output_type": "stream",
          "name": "stdout",
          "text": [
            "   user_id  click group            timestamp\n",
            "0        1      1   exp  2024-01-01 00:00:00\n",
            "1        2      0   exp  2024-01-01 00:01:00\n",
            "2        3      1   exp  2024-01-01 00:02:00\n",
            "3        4      0   exp  2024-01-01 00:03:00\n",
            "4        5      1   exp  2024-01-01 00:04:00\n",
            "            user_id         click\n",
            "count  20000.000000  20000.000000\n",
            "mean   10000.500000      0.405250\n",
            "std     5773.647028      0.490953\n",
            "min        1.000000      0.000000\n",
            "25%     5000.750000      0.000000\n",
            "50%    10000.500000      0.000000\n",
            "75%    15000.250000      1.000000\n",
            "max    20000.000000      1.000000\n",
            "         user_id  click\n",
            "group                  \n",
            "con    150005000   1989\n",
            "exp     50005000   6116\n"
          ]
        }
      ]
    },
    {
      "cell_type": "markdown",
      "source": [
        "A bar chart to show the total clicks vs no-clicks in each group to visualize the user engagement"
      ],
      "metadata": {
        "id": "Fa-oFN5y7uSC"
      }
    },
    {
      "cell_type": "code",
      "source": [
        "palette = {0: 'grey', 1: 'lightgreen'}\n",
        "\n",
        "plt.figure(figsize=(10,6))\n",
        "ax = sns.countplot(x='group', hue='click', data=df_ab_test, palette=palette)\n",
        "plt.title('Click Distribution for Test and Control groups')\n",
        "plt.xlabel('Group')\n",
        "plt.ylabel('Count')\n",
        "plt.legend(title='Click', labels = ['No', 'Yes'])\n",
        "\n",
        "group_counts = df_ab_test.groupby(['group']).size()\n",
        "group_click_counts = df_ab_test.groupby(['group', 'click']).size().reset_index(name = 'count')\n",
        "\n",
        "for p in ax.patches:\n",
        "  height = p.get_height()\n",
        "  group = 'exp' if p.get_x() <0.5 else 'con'\n",
        "  click = 1 if p.get_x() % 1 >0.5 else 0\n",
        "  total = group_counts.loc[group]\n",
        "  percentage = 100* height/total\n",
        "  ax.text(p.get_x() + p.get_width()/2., height + 5, f'{percentage:.1f}%', ha=\"center\", color = 'black', fontsize=10)\n",
        "\n",
        "  plt.tight_layout()\n",
        "  plt.show()\n"
      ],
      "metadata": {
        "colab": {
          "base_uri": "https://localhost:8080/",
          "height": 696
        },
        "id": "VF2Ital_7clZ",
        "outputId": "aab877e0-eeb8-4a80-e06d-73eb2fed0023"
      },
      "execution_count": 4,
      "outputs": [
        {
          "output_type": "display_data",
          "data": {
            "text/plain": [
              "<Figure size 1000x600 with 1 Axes>"
            ],
            "image/png": "[encoded data removed]"
          },
          "metadata": {}
        },
        {
          "output_type": "display_data",
          "data": {
            "text/plain": [
              "<Figure size 640x480 with 0 Axes>"
            ]
          },
          "metadata": {}
        },
        {
          "output_type": "display_data",
          "data": {
            "text/plain": [
              "<Figure size 640x480 with 0 Axes>"
            ]
          },
          "metadata": {}
        },
        {
          "output_type": "display_data",
          "data": {
            "text/plain": [
              "<Figure size 640x480 with 0 Axes>"
            ]
          },
          "metadata": {}
        },
        {
          "output_type": "display_data",
          "data": {
            "text/plain": [
              "<Figure size 640x480 with 0 Axes>"
            ]
          },
          "metadata": {}
        },
        {
          "output_type": "display_data",
          "data": {
            "text/plain": [
              "<Figure size 640x480 with 0 Axes>"
            ]
          },
          "metadata": {}
        }
      ]
    },
    {
      "cell_type": "markdown",
      "source": [
        "Defining Parameters for Analysis of the test results"
      ],
      "metadata": {
        "id": "CEnc45e4-3mt"
      }
    },
    {
      "cell_type": "code",
      "source": [
        "alpha = 0.05\n",
        "#significance level OR the probability of Type I error\n",
        "#intuition - we are okay to make an error of 5%\n",
        "\n",
        "delta = 0.1\n",
        "#minimum detectable effect\n",
        "#intuition - how much increase in CTR is good for business"
      ],
      "metadata": {
        "id": "nJhedlyj-cm_"
      },
      "execution_count": 5,
      "outputs": []
    },
    {
      "cell_type": "markdown",
      "source": [
        "Calculating the total number of clicks for both the groups"
      ],
      "metadata": {
        "id": "sz5Do08t_yl9"
      }
    },
    {
      "cell_type": "code",
      "source": [
        "N_con = df_ab_test[df_ab_test[\"group\"] == \"con\"].count().iloc[0]\n",
        "N_exp = df_ab_test[df_ab_test[\"group\"] == \"exp\"].count().iloc[0]\n",
        "\n",
        "X_con = df_ab_test.groupby(\"group\")[\"click\"].sum().loc[\"con\"]\n",
        "X_exp = df_ab_test.groupby(\"group\")[\"click\"].sum().loc[\"exp\"]\n",
        "\n",
        "print(\"number of clicks in control group: \",X_con)\n",
        "print(\"number of clicks in test group: \",X_exp)"
      ],
      "metadata": {
        "colab": {
          "base_uri": "https://localhost:8080/"
        },
        "id": "UlJATbYM_rxC",
        "outputId": "99bb7592-ecec-4f71-f3f2-43819233056b"
      },
      "execution_count": 46,
      "outputs": [
        {
          "output_type": "stream",
          "name": "stdout",
          "text": [
            "number of clicks in control group:  1989\n",
            "number of clicks in test group:  6116\n"
          ]
        }
      ]
    },
    {
      "cell_type": "markdown",
      "source": [
        "Calculating Pooled estimates for the clicks in each of the groups"
      ],
      "metadata": {
        "id": "lUsWpSa_ApaS"
      }
    },
    {
      "cell_type": "code",
      "source": [
        "p_con_hat = X_con/N_con\n",
        "p_exp_hat = X_exp/N_exp\n",
        "\n",
        "print(\"click probability in the control group: \",p_con_hat)\n",
        "print(\"click probability in the test group: \",p_exp_hat)\n",
        "\n",
        "p_pooled_hat = (X_con+X_exp)/(N_con+N_exp)\n",
        "print(\"pooled click probability: \",p_pooled_hat)"
      ],
      "metadata": {
        "colab": {
          "base_uri": "https://localhost:8080/"
        },
        "id": "UJYC98URAhBV",
        "outputId": "310d6756-2cd2-46a1-94a7-24e79978713b"
      },
      "execution_count": 47,
      "outputs": [
        {
          "output_type": "stream",
          "name": "stdout",
          "text": [
            "click probability in the control group:  0.1989\n",
            "click probability in the test group:  0.6116\n",
            "pooled click probability:  0.40525\n"
          ]
        }
      ]
    },
    {
      "cell_type": "markdown",
      "source": [
        "Calculating Pooled variance"
      ],
      "metadata": {
        "id": "ywhav7Q8C-g_"
      }
    },
    {
      "cell_type": "code",
      "source": [
        "pooled_variance = p_pooled_hat * (1- p_pooled_hat)*(1/N_con + 1/N_exp)\n",
        "\n",
        "print(\"pooled estimate is: \", p_pooled_hat)\n",
        "print(\"pooled variance is: \", pooled_variance)"
      ],
      "metadata": {
        "colab": {
          "base_uri": "https://localhost:8080/"
        },
        "id": "Aq7qljXSBazW",
        "outputId": "ac6501cc-e403-41ac-d97d-7b3993b912f0"
      },
      "execution_count": 48,
      "outputs": [
        {
          "output_type": "stream",
          "name": "stdout",
          "text": [
            "pooled estimate is:  0.40525\n",
            "pooled variance is:  4.82044875e-05\n"
          ]
        }
      ]
    },
    {
      "cell_type": "markdown",
      "source": [
        "Calculating standard error and test statistics"
      ],
      "metadata": {
        "id": "0zAVgsIUD-Cm"
      }
    },
    {
      "cell_type": "code",
      "source": [
        "se = np.sqrt(pooled_variance)\n",
        "print(\"Standard error: \", se)\n",
        "\n",
        "test_stat = (p_con_hat - p_exp_hat)/se\n",
        "print(\"test statistics for 2-sample Z test is: \", test_stat)\n",
        "\n",
        "z_crit = norm.ppf(1-alpha/2)\n",
        "print(\"Z-critical value from Standard normal distribution: \", z_crit)"
      ],
      "metadata": {
        "colab": {
          "base_uri": "https://localhost:8080/"
        },
        "id": "RbJlcw0TDrHL",
        "outputId": "47f0c0f5-5110-47ce-9eef-2033d971d51b"
      },
      "execution_count": 49,
      "outputs": [
        {
          "output_type": "stream",
          "name": "stdout",
          "text": [
            "Standard error:  0.006942945160376826\n",
            "test statistics for 2-sample Z test is:  -59.44163326469381\n",
            "Z-critical value from Standard normal distribution:  1.959963984540054\n"
          ]
        }
      ]
    },
    {
      "cell_type": "markdown",
      "source": [
        "Calculating p_value for a Z-test"
      ],
      "metadata": {
        "id": "_ZmHnH3NE1Yj"
      }
    },
    {
      "cell_type": "code",
      "source": [
        "p_value = 2 * norm.sf(abs(test_stat))\n",
        "\n",
        "def is_statistically_significant(p_value, alpha):\n",
        "  print(f\"p-value of the 2-sample z test: {(p_value)}\")\n",
        "\n",
        "  if p_value <= alpha:\n",
        "    print(\"there is statistical significance ie. the observed difference between the 2 groups are unlikely to occur by chance\")\n",
        "  else:\n",
        "    print(\"there is not statistical significance ie. the observed difference between the 2 grouos could have occured just by chance\")\n",
        "\n",
        "is_statistically_significant(p_value, alpha)"
      ],
      "metadata": {
        "colab": {
          "base_uri": "https://localhost:8080/"
        },
        "id": "6FUPeb0MEzrC",
        "outputId": "89f525b6-e7a0-4b1d-ff1f-4709c7396be4"
      },
      "execution_count": 50,
      "outputs": [
        {
          "output_type": "stream",
          "name": "stdout",
          "text": [
            "p-value of the 2-sample z test: 0.0\n",
            "there is statistical significance ie. the observed difference between the 2 groups are unlikely to occur by chance\n"
          ]
        }
      ]
    },
    {
      "cell_type": "markdown",
      "source": [
        "Calculating the confidence interval of this test"
      ],
      "metadata": {
        "id": "Ukatn9tjNbzB"
      }
    },
    {
      "cell_type": "code",
      "source": [
        "mu = 0 #mean\n",
        "sigma = 1 #standard deviation\n",
        "\n",
        "x = np.linspace(mu - 3*sigma, mu+3*sigma, 100)\n",
        "y = norm.pdf(x,mu,sigma)\n",
        "\n",
        "plt.plot(x,y, label = 'Standard normal distribution')\n",
        "plt.fill_between(x,y, where = (x> z_crit) | (x < -z_crit), color = 'red', alpha=0.5, label = 'rejection region')\n",
        "plt.axvline(test_stat, color = 'green', linestyle = 'dashed', linewidth = 2, label = f'Test Statistic = {test_stat:.2f}')\n",
        "plt.axvline(z_crit, color = 'blue', linestyle = 'dashed', linewidth = 1, label = f'Z-critical = {z_crit:.2f}')\n",
        "plt.axvline(-z_crit, color = 'blue', linestyle = 'dashed', linewidth = 1)\n",
        "\n",
        "plt.xlabel('Z-value')\n",
        "plt.ylabel('Probability Density')\n",
        "plt.title('Gaussian Distribution with Rejection region \\n (Click through rate on a website button)')\n",
        "plt.legend()\n",
        "plt.show()"
      ],
      "metadata": {
        "colab": {
          "base_uri": "https://localhost:8080/",
          "height": 493
        },
        "id": "fEnM0omNHAEP",
        "outputId": "9a1d537e-5ae1-457a-c69f-b2edb936b832"
      },
      "execution_count": 52,
      "outputs": [
        {
          "output_type": "display_data",
          "data": {
            "text/plain": [
              "<Figure size 640x480 with 1 Axes>"
            ],
            "image/png": "[encoded data removed]"
          },
          "metadata": {}
        }
      ]
    },
    {
      "cell_type": "markdown",
      "source": [
        "Calculating the confidence interval of the test"
      ],
      "metadata": {
        "id": "VLeVyrGkQFRR"
      }
    },
    {
      "cell_type": "code",
      "source": [
        "ci = [\n",
        "    round((p_exp_hat - p_con_hat) - se*z_crit, 3),\n",
        "    round((p_exp_hat - p_con_hat) + se*z_crit, 3)\n",
        "]\n",
        "\n",
        "print(\"confidence interval of the 2 sample z test is: \", ci)"
      ],
      "metadata": {
        "colab": {
          "base_uri": "https://localhost:8080/"
        },
        "id": "r6U5QS2-Pvw8",
        "outputId": "94c18d13-549e-4bb2-bbbf-9b9868495a02"
      },
      "execution_count": 53,
      "outputs": [
        {
          "output_type": "stream",
          "name": "stdout",
          "text": [
            "confidence interval of the 2 sample z test is:  [0.399, 0.426]\n"
          ]
        }
      ]
    },
    {
      "cell_type": "markdown",
      "source": [
        "Testing for practical significance in A/B test"
      ],
      "metadata": {
        "id": "JhPqhmqlQpkO"
      }
    },
    {
      "cell_type": "code",
      "source": [
        "def is_practically_significant(delta, ci_95):\n",
        "  lower_bound_ci = ci_95[0]\n",
        "  if delta <= lower_bound_ci:\n",
        "    print(f\"We have Practical Significance!!! \\nWith MDE of {delta}, The difference between control and test group is practically significant\")\n",
        "    return True\n",
        "\n",
        "  else:\n",
        "    print(\"We do NOT have Practical Significance :( \\nThe difference between control and test group is not practically significant\")\n",
        "\n",
        "\n",
        "significance = is_practically_significant(delta, ci)\n",
        "print(\"Lower bound of 95% confidence interval is: \", ci[0])"
      ],
      "metadata": {
        "colab": {
          "base_uri": "https://localhost:8080/"
        },
        "id": "l5mAyrghQkvk",
        "outputId": "6654ab13-0f69-4e4c-a28e-d5d9bbf37d97"
      },
      "execution_count": 56,
      "outputs": [
        {
          "output_type": "stream",
          "name": "stdout",
          "text": [
            "We have Practical Significance!!! \n",
            "With MDE of 0.1, The difference between control and test group is practically significant\n",
            "Lower bound of 95% confidence interval is:  0.399\n"
          ]
        }
      ]
    },
    {
      "cell_type": "code",
      "source": [],
      "metadata": {
        "id": "Ta5dSXzXSON5"
      },
      "execution_count": null,
      "outputs": []
    }
  ]
}